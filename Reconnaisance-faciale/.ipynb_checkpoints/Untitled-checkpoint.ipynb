{
 "cells": [
  {
   "cell_type": "code",
   "execution_count": 11,
   "metadata": {},
   "outputs": [],
   "source": [
    "import numpy as np\n",
    "import cv2\n",
    "import ctypes"
   ]
  },
  {
   "cell_type": "code",
   "execution_count": 12,
   "metadata": {},
   "outputs": [],
   "source": [
    "from mtcnn.mtcnn import MTCNN\n",
    "import cv2\n",
    "from threading import Thread\n",
    "from multiprocessing import Array\n",
    "\n",
    "\n",
    "class FaceGetter(Thread):\n",
    "    def __init__(self, array: Array):\n",
    "        super().__init__()\n",
    "        self.detector = MTCNN()\n",
    "        self.cam = cv2.VideoCapture(0)\n",
    "        self.margins = 40\n",
    "        self.w = 500\n",
    "        self.h = 500\n",
    "        self.array = array\n",
    "\n",
    "    def run(self) -> None:\n",
    "        while True:\n",
    "            try:\n",
    "                self.get_face()\n",
    "            except Exception as e:\n",
    "                print(str(e))\n",
    "            # time.sleep(.5)\n",
    "        pass\n",
    "\n",
    "    def get_face(self):\n",
    "        ret, frame = self.cam.read()\n",
    "        frame = cv2.flip(frame, 1)\n",
    "        result = (self.detector.detect_faces(frame))\n",
    "        if len(result) > 0:\n",
    "            box = result[0]['box']\n",
    "            frame = frame[box[1] - self.margins:box[1] + box[2] + self.margins,\n",
    "                          box[0] - self.margins:box[0] + box[2] + self.margins]\n",
    "            frame = cv2.resize(frame, (self.w, self.h))\n",
    "            with self.array.get_lock():  # wait for obj to be readable\n",
    "                new_array = np.frombuffer(self.array.get_obj(), dtype=np.uint8)\n",
    "                new_array[:] = frame.flatten()\n",
    "    \n",
    "    def save_faces(n):\n",
    "        \n",
    "        "
   ]
  },
  {
   "cell_type": "code",
   "execution_count": 18,
   "metadata": {
    "scrolled": true
   },
   "outputs": [
    {
     "name": "stdout",
     "output_type": "stream",
     "text": [
      "Image not valid.\n",
      "Image not valid.\n",
      "Cam ready\n",
      "Image not valid.\n",
      "Image not valid.\n",
      "Image not valid.\n",
      "Image not valid.\n",
      "Image not valid.\n",
      "Image not valid.\n",
      "Image not valid.\n",
      "Image not valid.\n",
      "Image not valid.\n",
      "Image not valid.\n"
     ]
    }
   ],
   "source": [
    "a = Array(ctypes.c_int8, 500 * 500 * 3)\n",
    "f_getter = FaceGetter(a)\n",
    "f_getter.daemon = True\n",
    "f_getter.start()\n",
    "print(\"Cam ready\")"
   ]
  },
  {
   "cell_type": "code",
   "execution_count": 19,
   "metadata": {},
   "outputs": [
    {
     "name": "stdout",
     "output_type": "stream",
     "text": [
      "Image not valid.\n",
      "Image not valid.\n",
      "Image not valid.\n",
      "Image not valid.\n",
      "Image not valid.\n",
      "Image not valid.\n",
      "Image not valid.\n",
      "Image not valid.\n"
     ]
    },
    {
     "ename": "KeyboardInterrupt",
     "evalue": "",
     "output_type": "error",
     "traceback": [
      "\u001b[1;31m---------------------------------------------------------------------------\u001b[0m",
      "\u001b[1;31mKeyboardInterrupt\u001b[0m                         Traceback (most recent call last)",
      "\u001b[1;32m<ipython-input-19-44830600cf70>\u001b[0m in \u001b[0;36m<module>\u001b[1;34m\u001b[0m\n\u001b[0;32m      7\u001b[0m \u001b[1;33m\u001b[0m\u001b[0m\n\u001b[1;32m----> 8\u001b[1;33m         \u001b[0mkey\u001b[0m \u001b[1;33m=\u001b[0m \u001b[0mcv2\u001b[0m\u001b[1;33m.\u001b[0m\u001b[0mwaitKey\u001b[0m\u001b[1;33m(\u001b[0m\u001b[1;36m10\u001b[0m\u001b[1;33m)\u001b[0m\u001b[1;33m\u001b[0m\u001b[1;33m\u001b[0m\u001b[0m\n\u001b[0m\u001b[0;32m      9\u001b[0m         \u001b[1;32mif\u001b[0m \u001b[0mkey\u001b[0m \u001b[1;33m==\u001b[0m \u001b[1;36m27\u001b[0m\u001b[1;33m:\u001b[0m\u001b[1;33m\u001b[0m\u001b[1;33m\u001b[0m\u001b[0m\n",
      "\u001b[1;31mKeyboardInterrupt\u001b[0m: ",
      "\nDuring handling of the above exception, another exception occurred:\n",
      "\u001b[1;31mKeyboardInterrupt\u001b[0m                         Traceback (most recent call last)",
      "\u001b[1;32m<ipython-input-19-44830600cf70>\u001b[0m in \u001b[0;36m<module>\u001b[1;34m\u001b[0m\n\u001b[0;32m     14\u001b[0m \u001b[1;32mfinally\u001b[0m\u001b[1;33m:\u001b[0m\u001b[1;33m\u001b[0m\u001b[1;33m\u001b[0m\u001b[0m\n\u001b[0;32m     15\u001b[0m     \u001b[0mcv2\u001b[0m\u001b[1;33m.\u001b[0m\u001b[0mdestroyAllWindows\u001b[0m\u001b[1;33m(\u001b[0m\u001b[1;33m)\u001b[0m\u001b[1;33m\u001b[0m\u001b[1;33m\u001b[0m\u001b[0m\n\u001b[1;32m---> 16\u001b[1;33m     \u001b[0mcv2\u001b[0m\u001b[1;33m.\u001b[0m\u001b[0mVideoCapture\u001b[0m\u001b[1;33m(\u001b[0m\u001b[1;36m0\u001b[0m\u001b[1;33m)\u001b[0m\u001b[1;33m.\u001b[0m\u001b[0mrelease\u001b[0m\u001b[1;33m(\u001b[0m\u001b[1;33m)\u001b[0m\u001b[1;33m\u001b[0m\u001b[1;33m\u001b[0m\u001b[0m\n\u001b[0m",
      "\u001b[1;31mKeyboardInterrupt\u001b[0m: "
     ]
    }
   ],
   "source": [
    "\n",
    "try:\n",
    "    while True:\n",
    "        if a is not None:\n",
    "            with a.get_lock():\n",
    "                image = np.frombuffer(a.get_obj(), dtype=np.uint8)\n",
    "                f = cv2.imshow('test', np.reshape(image, (500, 500, 3)))\n",
    "\n",
    "        key = cv2.waitKey(10)\n",
    "        if key == 27:\n",
    "            break\n",
    "except Exception as e:\n",
    "    print(str(e))\n",
    "    pass\n",
    "finally:\n",
    "    cv2.destroyAllWindows()\n",
    "    cv2.VideoCapture(0).release()"
   ]
  }
 ],
 "metadata": {
  "kernelspec": {
   "display_name": "Python 3",
   "language": "python",
   "name": "python3"
  },
  "language_info": {
   "codemirror_mode": {
    "name": "ipython",
    "version": 3
   },
   "file_extension": ".py",
   "mimetype": "text/x-python",
   "name": "python",
   "nbconvert_exporter": "python",
   "pygments_lexer": "ipython3",
   "version": "3.7.4"
  }
 },
 "nbformat": 4,
 "nbformat_minor": 2
}
